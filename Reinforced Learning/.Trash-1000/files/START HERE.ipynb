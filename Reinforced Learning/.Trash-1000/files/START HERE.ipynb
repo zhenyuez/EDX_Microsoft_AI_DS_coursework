{
 "cells": [
  {
   "cell_type": "code",
   "execution_count": 1,
   "metadata": {},
   "outputs": [
    {
     "name": "stdout",
     "output_type": "stream",
     "text": [
      "Cloning into 'Reinforcement-Learning-Explained'...\n",
      "remote: Counting objects: 41, done.\u001b[K\n",
      "remote: Compressing objects: 100% (24/24), done.\u001b[K\n",
      "remote: Total 41 (delta 16), reused 38 (delta 15), pack-reused 0\u001b[K\n",
      "Unpacking objects: 100% (41/41), done.\n",
      "Checking connectivity... done.\n",
      "Checking out files: 100% (28/28), done.\n"
     ]
    }
   ],
   "source": [
    "!git clone https://github.com/MicrosoftLearning/Reinforcement-Learning-Explained\n",
    "    git clone --bare origin_url ./"
   ]
  },
  {
   "cell_type": "code",
   "execution_count": null,
   "metadata": {},
   "outputs": [],
   "source": []
  }
 ],
 "metadata": {
  "kernelspec": {
   "display_name": "Python 3.6",
   "language": "python",
   "name": "python36"
  },
  "language_info": {
   "codemirror_mode": {
    "name": "ipython",
    "version": 3
   },
   "file_extension": ".py",
   "mimetype": "text/x-python",
   "name": "python",
   "nbconvert_exporter": "python",
   "pygments_lexer": "ipython3",
   "version": "3.6.3"
  }
 },
 "nbformat": 4,
 "nbformat_minor": 2
}
